{
 "cells": [
  {
   "cell_type": "markdown",
   "id": "f9c7fb5a",
   "metadata": {},
   "source": [
    "## **Python para Data Science: Clase 07**\n",
    "\n",
    "### Actividad Práctica: Numpy, Pandas y Librerías de Visualización"
   ]
  },
  {
   "cell_type": "markdown",
   "id": "f32a988e",
   "metadata": {},
   "source": [
    "#### **Actividad 1: Explorando Series y DataFrames con Pandas y Visualizando la Información**\n",
    "\n",
    "1. Crear una Serie a partir de un diccionario:\n",
    " \n",
    " ```data = {\n",
    "    'País': ['Chile', 'Argentina', 'Perú', 'Colombia', 'Uruguay'],\n",
    "    'Población (millones)': [19.5, 45.3, 32.1, 50.3, 3.5],\n",
    "    'PIB (USD miles de millones)': [320.0, 450.5, 226.8, 330.2, 59.2],\n",
    "    'Esperanza de vida (años)': [80.2, 76.1, 75.6, 74.5, 77.8] }\n",
    "```\n",
    "\n",
    "2. Extraer sólo los países con PIB mayor a 300\n",
    "3. Ordenar el DataFrame por “Esperanza de vida” de mayor a menor.\n",
    "4. Calcular el PIB per cápita (en USD) y agregarlo como columna.\n",
    "5. Crear una columna “Nivel de vida” que muestre la siguiente información:\n",
    "    - “Alta” si esperanza ≥ 78\n",
    "    - “Media” si entre 75 y 78\n",
    "    - “Baja” si < 75\n",
    "6. Calcular la media y desviación estándar de la población.\n",
    "7. Encontrar el país con mayor y menor PIB per cápita.\n",
    "8. Crear un Histograma de “Población (millones)”.\n",
    "9. Crear un gráfico de dispersión de “PIB per cápita” vs “Esperanza de vida”."
   ]
  },
  {
   "cell_type": "code",
   "execution_count": null,
   "id": "4d46ee8b",
   "metadata": {},
   "outputs": [],
   "source": [
    "import pandas as pd\n",
    "import numpy as np\n",
    "import matplotlib.pyplot as plt"
   ]
  },
  {
   "cell_type": "code",
   "execution_count": 54,
   "id": "1c4b6405",
   "metadata": {},
   "outputs": [],
   "source": [
    "# 1. Crear el DataFrame a partir del diccionario\n",
    "data = {\n",
    "    'País': ['Chile', 'Argentina', 'Perú', 'Colombia', 'Uruguay'],\n",
    "    'Población (millones)': [19.5, 45.3, 32.1, 50.3, 3.5],\n",
    "    'PIB (USD miles de millones)': [320.0, 450.5, 226.8, 330.2, 59.2],\n",
    "    'Esperanza de vida (años)': [80.2, 76.1, 75.6, 74.5, 77.8]\n",
    "}"
   ]
  },
  {
   "cell_type": "code",
   "execution_count": 14,
   "id": "26e325ec",
   "metadata": {},
   "outputs": [
    {
     "data": {
      "application/vnd.microsoft.datawrangler.viewer.v0+json": {
       "columns": [
        {
         "name": "index",
         "rawType": "int64",
         "type": "integer"
        },
        {
         "name": "País",
         "rawType": "object",
         "type": "string"
        },
        {
         "name": "Población (millones)",
         "rawType": "float64",
         "type": "float"
        },
        {
         "name": "PIB (USD miles de millones)",
         "rawType": "float64",
         "type": "float"
        },
        {
         "name": "Esperanza de vida (años)",
         "rawType": "float64",
         "type": "float"
        }
       ],
       "ref": "25558388-8e5d-4cfd-958c-c5d55f0ccd7c",
       "rows": [
        [
         "0",
         "Chile",
         "19.5",
         "320.0",
         "80.2"
        ],
        [
         "1",
         "Argentina",
         "45.3",
         "450.5",
         "76.1"
        ],
        [
         "2",
         "Perú",
         "32.1",
         "226.8",
         "75.6"
        ],
        [
         "3",
         "Colombia",
         "50.3",
         "330.2",
         "74.5"
        ],
        [
         "4",
         "Uruguay",
         "3.5",
         "59.2",
         "77.8"
        ]
       ],
       "shape": {
        "columns": 4,
        "rows": 5
       }
      },
      "text/html": [
       "<div>\n",
       "<style scoped>\n",
       "    .dataframe tbody tr th:only-of-type {\n",
       "        vertical-align: middle;\n",
       "    }\n",
       "\n",
       "    .dataframe tbody tr th {\n",
       "        vertical-align: top;\n",
       "    }\n",
       "\n",
       "    .dataframe thead th {\n",
       "        text-align: right;\n",
       "    }\n",
       "</style>\n",
       "<table border=\"1\" class=\"dataframe\">\n",
       "  <thead>\n",
       "    <tr style=\"text-align: right;\">\n",
       "      <th></th>\n",
       "      <th>País</th>\n",
       "      <th>Población (millones)</th>\n",
       "      <th>PIB (USD miles de millones)</th>\n",
       "      <th>Esperanza de vida (años)</th>\n",
       "    </tr>\n",
       "  </thead>\n",
       "  <tbody>\n",
       "    <tr>\n",
       "      <th>0</th>\n",
       "      <td>Chile</td>\n",
       "      <td>19.5</td>\n",
       "      <td>320.0</td>\n",
       "      <td>80.2</td>\n",
       "    </tr>\n",
       "    <tr>\n",
       "      <th>1</th>\n",
       "      <td>Argentina</td>\n",
       "      <td>45.3</td>\n",
       "      <td>450.5</td>\n",
       "      <td>76.1</td>\n",
       "    </tr>\n",
       "    <tr>\n",
       "      <th>2</th>\n",
       "      <td>Perú</td>\n",
       "      <td>32.1</td>\n",
       "      <td>226.8</td>\n",
       "      <td>75.6</td>\n",
       "    </tr>\n",
       "    <tr>\n",
       "      <th>3</th>\n",
       "      <td>Colombia</td>\n",
       "      <td>50.3</td>\n",
       "      <td>330.2</td>\n",
       "      <td>74.5</td>\n",
       "    </tr>\n",
       "    <tr>\n",
       "      <th>4</th>\n",
       "      <td>Uruguay</td>\n",
       "      <td>3.5</td>\n",
       "      <td>59.2</td>\n",
       "      <td>77.8</td>\n",
       "    </tr>\n",
       "  </tbody>\n",
       "</table>\n",
       "</div>"
      ],
      "text/plain": [
       "        País  Población (millones)  PIB (USD miles de millones)  \\\n",
       "0      Chile                  19.5                        320.0   \n",
       "1  Argentina                  45.3                        450.5   \n",
       "2       Perú                  32.1                        226.8   \n",
       "3   Colombia                  50.3                        330.2   \n",
       "4    Uruguay                   3.5                         59.2   \n",
       "\n",
       "   Esperanza de vida (años)  \n",
       "0                      80.2  \n",
       "1                      76.1  \n",
       "2                      75.6  \n",
       "3                      74.5  \n",
       "4                      77.8  "
      ]
     },
     "execution_count": 14,
     "metadata": {},
     "output_type": "execute_result"
    }
   ],
   "source": [
    "df = pd.DataFrame(data)\n",
    "df #print(df.head(5)) -> el print no es necesario en Jupyter, ya que la última línea se muestra automáticamente"
   ]
  },
  {
   "cell_type": "code",
   "execution_count": null,
   "id": "aa223885",
   "metadata": {},
   "outputs": [],
   "source": [
    "# 2. Extraer países con PIB mayor a 300\n",
    "df_pib_mayor_300 = df[df['PIB (USD miles de millones)'] > 300]"
   ]
  },
  {
   "cell_type": "code",
   "execution_count": 24,
   "id": "1660d8f9",
   "metadata": {},
   "outputs": [
    {
     "data": {
      "application/vnd.microsoft.datawrangler.viewer.v0+json": {
       "columns": [
        {
         "name": "index",
         "rawType": "int64",
         "type": "integer"
        },
        {
         "name": "País",
         "rawType": "object",
         "type": "string"
        },
        {
         "name": "Población (millones)",
         "rawType": "float64",
         "type": "float"
        },
        {
         "name": "PIB (USD miles de millones)",
         "rawType": "float64",
         "type": "float"
        },
        {
         "name": "Esperanza de vida (años)",
         "rawType": "float64",
         "type": "float"
        }
       ],
       "ref": "e1d5f943-88cc-435b-bede-2524a4a41d93",
       "rows": [
        [
         "0",
         "Chile",
         "19.5",
         "320.0",
         "80.2"
        ],
        [
         "1",
         "Argentina",
         "45.3",
         "450.5",
         "76.1"
        ],
        [
         "3",
         "Colombia",
         "50.3",
         "330.2",
         "74.5"
        ]
       ],
       "shape": {
        "columns": 4,
        "rows": 3
       }
      },
      "text/html": [
       "<div>\n",
       "<style scoped>\n",
       "    .dataframe tbody tr th:only-of-type {\n",
       "        vertical-align: middle;\n",
       "    }\n",
       "\n",
       "    .dataframe tbody tr th {\n",
       "        vertical-align: top;\n",
       "    }\n",
       "\n",
       "    .dataframe thead th {\n",
       "        text-align: right;\n",
       "    }\n",
       "</style>\n",
       "<table border=\"1\" class=\"dataframe\">\n",
       "  <thead>\n",
       "    <tr style=\"text-align: right;\">\n",
       "      <th></th>\n",
       "      <th>País</th>\n",
       "      <th>Población (millones)</th>\n",
       "      <th>PIB (USD miles de millones)</th>\n",
       "      <th>Esperanza de vida (años)</th>\n",
       "    </tr>\n",
       "  </thead>\n",
       "  <tbody>\n",
       "    <tr>\n",
       "      <th>0</th>\n",
       "      <td>Chile</td>\n",
       "      <td>19.5</td>\n",
       "      <td>320.0</td>\n",
       "      <td>80.2</td>\n",
       "    </tr>\n",
       "    <tr>\n",
       "      <th>1</th>\n",
       "      <td>Argentina</td>\n",
       "      <td>45.3</td>\n",
       "      <td>450.5</td>\n",
       "      <td>76.1</td>\n",
       "    </tr>\n",
       "    <tr>\n",
       "      <th>3</th>\n",
       "      <td>Colombia</td>\n",
       "      <td>50.3</td>\n",
       "      <td>330.2</td>\n",
       "      <td>74.5</td>\n",
       "    </tr>\n",
       "  </tbody>\n",
       "</table>\n",
       "</div>"
      ],
      "text/plain": [
       "        País  Población (millones)  PIB (USD miles de millones)  \\\n",
       "0      Chile                  19.5                        320.0   \n",
       "1  Argentina                  45.3                        450.5   \n",
       "3   Colombia                  50.3                        330.2   \n",
       "\n",
       "   Esperanza de vida (años)  \n",
       "0                      80.2  \n",
       "1                      76.1  \n",
       "3                      74.5  "
      ]
     },
     "execution_count": 24,
     "metadata": {},
     "output_type": "execute_result"
    }
   ],
   "source": [
    "df_pib_mayor_300"
   ]
  },
  {
   "cell_type": "code",
   "execution_count": 55,
   "id": "443f1972",
   "metadata": {},
   "outputs": [],
   "source": [
    "# 3. Ordenar por “Esperanza de vida” de mayor a menor\n",
    "df_ordenado_vida = df.sort_values(by='Esperanza de vida (años)', ascending=False)"
   ]
  },
  {
   "cell_type": "code",
   "execution_count": 56,
   "id": "ec04efec",
   "metadata": {},
   "outputs": [
    {
     "data": {
      "application/vnd.microsoft.datawrangler.viewer.v0+json": {
       "columns": [
        {
         "name": "index",
         "rawType": "int64",
         "type": "integer"
        },
        {
         "name": "País",
         "rawType": "object",
         "type": "string"
        },
        {
         "name": "Población (millones)",
         "rawType": "float64",
         "type": "float"
        },
        {
         "name": "PIB (USD miles de millones)",
         "rawType": "float64",
         "type": "float"
        },
        {
         "name": "Esperanza de vida (años)",
         "rawType": "float64",
         "type": "float"
        },
        {
         "name": "PIB per cápita (USD)",
         "rawType": "float64",
         "type": "float"
        }
       ],
       "ref": "a1e3b36a-c372-448c-8ee4-6c28cd0c81f1",
       "rows": [
        [
         "0",
         "Chile",
         "19.5",
         "320.0",
         "80.2",
         "16410.25641025641"
        ],
        [
         "4",
         "Uruguay",
         "3.5",
         "59.2",
         "77.8",
         "16914.285714285714"
        ],
        [
         "1",
         "Argentina",
         "45.3",
         "450.5",
         "76.1",
         "9944.812362030905"
        ],
        [
         "2",
         "Perú",
         "32.1",
         "226.8",
         "75.6",
         "7065.420560747663"
        ],
        [
         "3",
         "Colombia",
         "50.3",
         "330.2",
         "74.5",
         "6564.612326043738"
        ]
       ],
       "shape": {
        "columns": 5,
        "rows": 5
       }
      },
      "text/html": [
       "<div>\n",
       "<style scoped>\n",
       "    .dataframe tbody tr th:only-of-type {\n",
       "        vertical-align: middle;\n",
       "    }\n",
       "\n",
       "    .dataframe tbody tr th {\n",
       "        vertical-align: top;\n",
       "    }\n",
       "\n",
       "    .dataframe thead th {\n",
       "        text-align: right;\n",
       "    }\n",
       "</style>\n",
       "<table border=\"1\" class=\"dataframe\">\n",
       "  <thead>\n",
       "    <tr style=\"text-align: right;\">\n",
       "      <th></th>\n",
       "      <th>País</th>\n",
       "      <th>Población (millones)</th>\n",
       "      <th>PIB (USD miles de millones)</th>\n",
       "      <th>Esperanza de vida (años)</th>\n",
       "      <th>PIB per cápita (USD)</th>\n",
       "    </tr>\n",
       "  </thead>\n",
       "  <tbody>\n",
       "    <tr>\n",
       "      <th>0</th>\n",
       "      <td>Chile</td>\n",
       "      <td>19.5</td>\n",
       "      <td>320.0</td>\n",
       "      <td>80.2</td>\n",
       "      <td>16410.256410</td>\n",
       "    </tr>\n",
       "    <tr>\n",
       "      <th>4</th>\n",
       "      <td>Uruguay</td>\n",
       "      <td>3.5</td>\n",
       "      <td>59.2</td>\n",
       "      <td>77.8</td>\n",
       "      <td>16914.285714</td>\n",
       "    </tr>\n",
       "    <tr>\n",
       "      <th>1</th>\n",
       "      <td>Argentina</td>\n",
       "      <td>45.3</td>\n",
       "      <td>450.5</td>\n",
       "      <td>76.1</td>\n",
       "      <td>9944.812362</td>\n",
       "    </tr>\n",
       "    <tr>\n",
       "      <th>2</th>\n",
       "      <td>Perú</td>\n",
       "      <td>32.1</td>\n",
       "      <td>226.8</td>\n",
       "      <td>75.6</td>\n",
       "      <td>7065.420561</td>\n",
       "    </tr>\n",
       "    <tr>\n",
       "      <th>3</th>\n",
       "      <td>Colombia</td>\n",
       "      <td>50.3</td>\n",
       "      <td>330.2</td>\n",
       "      <td>74.5</td>\n",
       "      <td>6564.612326</td>\n",
       "    </tr>\n",
       "  </tbody>\n",
       "</table>\n",
       "</div>"
      ],
      "text/plain": [
       "        País  Población (millones)  PIB (USD miles de millones)  \\\n",
       "0      Chile                  19.5                        320.0   \n",
       "4    Uruguay                   3.5                         59.2   \n",
       "1  Argentina                  45.3                        450.5   \n",
       "2       Perú                  32.1                        226.8   \n",
       "3   Colombia                  50.3                        330.2   \n",
       "\n",
       "   Esperanza de vida (años)  PIB per cápita (USD)  \n",
       "0                      80.2          16410.256410  \n",
       "4                      77.8          16914.285714  \n",
       "1                      76.1           9944.812362  \n",
       "2                      75.6           7065.420561  \n",
       "3                      74.5           6564.612326  "
      ]
     },
     "execution_count": 56,
     "metadata": {},
     "output_type": "execute_result"
    }
   ],
   "source": [
    "df_ordenado_vida"
   ]
  },
  {
   "cell_type": "code",
   "execution_count": null,
   "id": "86b746e1",
   "metadata": {},
   "outputs": [],
   "source": [
    "# 4. Calcular PIB per cápita (en USD) y agregarlo como columna\n",
    "# Esto se puede optimizar realizando una función que realice el cálculo\n",
    "df['PIB per cápita (USD)'] = (df['PIB (USD miles de millones)'] * 1e9) / (df['Población (millones)'] * 1e6)"
   ]
  },
  {
   "cell_type": "code",
   "execution_count": 58,
   "id": "6216be66",
   "metadata": {},
   "outputs": [
    {
     "data": {
      "application/vnd.microsoft.datawrangler.viewer.v0+json": {
       "columns": [
        {
         "name": "index",
         "rawType": "int64",
         "type": "integer"
        },
        {
         "name": "País",
         "rawType": "object",
         "type": "string"
        },
        {
         "name": "Población (millones)",
         "rawType": "float64",
         "type": "float"
        },
        {
         "name": "PIB (USD miles de millones)",
         "rawType": "float64",
         "type": "float"
        },
        {
         "name": "Esperanza de vida (años)",
         "rawType": "float64",
         "type": "float"
        },
        {
         "name": "PIB per cápita (USD)",
         "rawType": "float64",
         "type": "float"
        }
       ],
       "ref": "75807856-05fd-4fd2-9c01-0e2b7dec03d9",
       "rows": [
        [
         "0",
         "Chile",
         "19.5",
         "320.0",
         "80.2",
         "16410.25641025641"
        ],
        [
         "1",
         "Argentina",
         "45.3",
         "450.5",
         "76.1",
         "9944.812362030905"
        ],
        [
         "2",
         "Perú",
         "32.1",
         "226.8",
         "75.6",
         "7065.420560747663"
        ],
        [
         "3",
         "Colombia",
         "50.3",
         "330.2",
         "74.5",
         "6564.612326043738"
        ],
        [
         "4",
         "Uruguay",
         "3.5",
         "59.2",
         "77.8",
         "16914.285714285714"
        ]
       ],
       "shape": {
        "columns": 5,
        "rows": 5
       }
      },
      "text/html": [
       "<div>\n",
       "<style scoped>\n",
       "    .dataframe tbody tr th:only-of-type {\n",
       "        vertical-align: middle;\n",
       "    }\n",
       "\n",
       "    .dataframe tbody tr th {\n",
       "        vertical-align: top;\n",
       "    }\n",
       "\n",
       "    .dataframe thead th {\n",
       "        text-align: right;\n",
       "    }\n",
       "</style>\n",
       "<table border=\"1\" class=\"dataframe\">\n",
       "  <thead>\n",
       "    <tr style=\"text-align: right;\">\n",
       "      <th></th>\n",
       "      <th>País</th>\n",
       "      <th>Población (millones)</th>\n",
       "      <th>PIB (USD miles de millones)</th>\n",
       "      <th>Esperanza de vida (años)</th>\n",
       "      <th>PIB per cápita (USD)</th>\n",
       "    </tr>\n",
       "  </thead>\n",
       "  <tbody>\n",
       "    <tr>\n",
       "      <th>0</th>\n",
       "      <td>Chile</td>\n",
       "      <td>19.5</td>\n",
       "      <td>320.0</td>\n",
       "      <td>80.2</td>\n",
       "      <td>16410.256410</td>\n",
       "    </tr>\n",
       "    <tr>\n",
       "      <th>1</th>\n",
       "      <td>Argentina</td>\n",
       "      <td>45.3</td>\n",
       "      <td>450.5</td>\n",
       "      <td>76.1</td>\n",
       "      <td>9944.812362</td>\n",
       "    </tr>\n",
       "    <tr>\n",
       "      <th>2</th>\n",
       "      <td>Perú</td>\n",
       "      <td>32.1</td>\n",
       "      <td>226.8</td>\n",
       "      <td>75.6</td>\n",
       "      <td>7065.420561</td>\n",
       "    </tr>\n",
       "    <tr>\n",
       "      <th>3</th>\n",
       "      <td>Colombia</td>\n",
       "      <td>50.3</td>\n",
       "      <td>330.2</td>\n",
       "      <td>74.5</td>\n",
       "      <td>6564.612326</td>\n",
       "    </tr>\n",
       "    <tr>\n",
       "      <th>4</th>\n",
       "      <td>Uruguay</td>\n",
       "      <td>3.5</td>\n",
       "      <td>59.2</td>\n",
       "      <td>77.8</td>\n",
       "      <td>16914.285714</td>\n",
       "    </tr>\n",
       "  </tbody>\n",
       "</table>\n",
       "</div>"
      ],
      "text/plain": [
       "        País  Población (millones)  PIB (USD miles de millones)  \\\n",
       "0      Chile                  19.5                        320.0   \n",
       "1  Argentina                  45.3                        450.5   \n",
       "2       Perú                  32.1                        226.8   \n",
       "3   Colombia                  50.3                        330.2   \n",
       "4    Uruguay                   3.5                         59.2   \n",
       "\n",
       "   Esperanza de vida (años)  PIB per cápita (USD)  \n",
       "0                      80.2          16410.256410  \n",
       "1                      76.1           9944.812362  \n",
       "2                      75.6           7065.420561  \n",
       "3                      74.5           6564.612326  \n",
       "4                      77.8          16914.285714  "
      ]
     },
     "execution_count": 58,
     "metadata": {},
     "output_type": "execute_result"
    }
   ],
   "source": [
    "df"
   ]
  },
  {
   "cell_type": "code",
   "execution_count": 66,
   "id": "f2b0bc2b",
   "metadata": {},
   "outputs": [],
   "source": [
    "# 5. Crear columna “Nivel de vida”\n",
    "def nivel_vida(esperanza): #estilo de programación snake_case\n",
    "    if esperanza >= 78:\n",
    "        return \"Alta\"\n",
    "    elif esperanza >= 75:\n",
    "        return \"Media\"\n",
    "    else:\n",
    "        return \"Baja\"\n",
    "df['Nivel de vida'] = df['Esperanza de vida (años)'].apply(nivel_vida)"
   ]
  },
  {
   "cell_type": "code",
   "execution_count": 63,
   "id": "f62fa5ff",
   "metadata": {},
   "outputs": [
    {
     "data": {
      "application/vnd.microsoft.datawrangler.viewer.v0+json": {
       "columns": [
        {
         "name": "index",
         "rawType": "int64",
         "type": "integer"
        },
        {
         "name": "País",
         "rawType": "object",
         "type": "string"
        },
        {
         "name": "Población (millones)",
         "rawType": "float64",
         "type": "float"
        },
        {
         "name": "PIB (USD miles de millones)",
         "rawType": "float64",
         "type": "float"
        },
        {
         "name": "Esperanza de vida (años)",
         "rawType": "float64",
         "type": "float"
        },
        {
         "name": "PIB per cápita (USD)",
         "rawType": "float64",
         "type": "float"
        },
        {
         "name": "Nivel de vida",
         "rawType": "object",
         "type": "string"
        }
       ],
       "ref": "b0a9d2d1-c0c3-462e-bd83-a820cb9907fd",
       "rows": [
        [
         "0",
         "Chile",
         "19.5",
         "320.0",
         "80.2",
         "16410.25641025641",
         "Alta"
        ],
        [
         "1",
         "Argentina",
         "45.3",
         "450.5",
         "76.1",
         "9944.812362030905",
         "Media"
        ],
        [
         "2",
         "Perú",
         "32.1",
         "226.8",
         "75.6",
         "7065.420560747663",
         "Media"
        ],
        [
         "3",
         "Colombia",
         "50.3",
         "330.2",
         "74.5",
         "6564.612326043738",
         "Baja"
        ],
        [
         "4",
         "Uruguay",
         "3.5",
         "59.2",
         "77.8",
         "16914.285714285714",
         "Media"
        ]
       ],
       "shape": {
        "columns": 6,
        "rows": 5
       }
      },
      "text/html": [
       "<div>\n",
       "<style scoped>\n",
       "    .dataframe tbody tr th:only-of-type {\n",
       "        vertical-align: middle;\n",
       "    }\n",
       "\n",
       "    .dataframe tbody tr th {\n",
       "        vertical-align: top;\n",
       "    }\n",
       "\n",
       "    .dataframe thead th {\n",
       "        text-align: right;\n",
       "    }\n",
       "</style>\n",
       "<table border=\"1\" class=\"dataframe\">\n",
       "  <thead>\n",
       "    <tr style=\"text-align: right;\">\n",
       "      <th></th>\n",
       "      <th>País</th>\n",
       "      <th>Población (millones)</th>\n",
       "      <th>PIB (USD miles de millones)</th>\n",
       "      <th>Esperanza de vida (años)</th>\n",
       "      <th>PIB per cápita (USD)</th>\n",
       "      <th>Nivel de vida</th>\n",
       "    </tr>\n",
       "  </thead>\n",
       "  <tbody>\n",
       "    <tr>\n",
       "      <th>0</th>\n",
       "      <td>Chile</td>\n",
       "      <td>19.5</td>\n",
       "      <td>320.0</td>\n",
       "      <td>80.2</td>\n",
       "      <td>16410.256410</td>\n",
       "      <td>Alta</td>\n",
       "    </tr>\n",
       "    <tr>\n",
       "      <th>1</th>\n",
       "      <td>Argentina</td>\n",
       "      <td>45.3</td>\n",
       "      <td>450.5</td>\n",
       "      <td>76.1</td>\n",
       "      <td>9944.812362</td>\n",
       "      <td>Media</td>\n",
       "    </tr>\n",
       "    <tr>\n",
       "      <th>2</th>\n",
       "      <td>Perú</td>\n",
       "      <td>32.1</td>\n",
       "      <td>226.8</td>\n",
       "      <td>75.6</td>\n",
       "      <td>7065.420561</td>\n",
       "      <td>Media</td>\n",
       "    </tr>\n",
       "    <tr>\n",
       "      <th>3</th>\n",
       "      <td>Colombia</td>\n",
       "      <td>50.3</td>\n",
       "      <td>330.2</td>\n",
       "      <td>74.5</td>\n",
       "      <td>6564.612326</td>\n",
       "      <td>Baja</td>\n",
       "    </tr>\n",
       "    <tr>\n",
       "      <th>4</th>\n",
       "      <td>Uruguay</td>\n",
       "      <td>3.5</td>\n",
       "      <td>59.2</td>\n",
       "      <td>77.8</td>\n",
       "      <td>16914.285714</td>\n",
       "      <td>Media</td>\n",
       "    </tr>\n",
       "  </tbody>\n",
       "</table>\n",
       "</div>"
      ],
      "text/plain": [
       "        País  Población (millones)  PIB (USD miles de millones)  \\\n",
       "0      Chile                  19.5                        320.0   \n",
       "1  Argentina                  45.3                        450.5   \n",
       "2       Perú                  32.1                        226.8   \n",
       "3   Colombia                  50.3                        330.2   \n",
       "4    Uruguay                   3.5                         59.2   \n",
       "\n",
       "   Esperanza de vida (años)  PIB per cápita (USD) Nivel de vida  \n",
       "0                      80.2          16410.256410          Alta  \n",
       "1                      76.1           9944.812362         Media  \n",
       "2                      75.6           7065.420561         Media  \n",
       "3                      74.5           6564.612326          Baja  \n",
       "4                      77.8          16914.285714         Media  "
      ]
     },
     "execution_count": 63,
     "metadata": {},
     "output_type": "execute_result"
    }
   ],
   "source": [
    "df"
   ]
  },
  {
   "cell_type": "code",
   "execution_count": 67,
   "id": "82d03ff2",
   "metadata": {},
   "outputs": [
    {
     "data": {
      "application/vnd.microsoft.datawrangler.viewer.v0+json": {
       "columns": [
        {
         "name": "index",
         "rawType": "object",
         "type": "string"
        },
        {
         "name": "Población (millones)",
         "rawType": "float64",
         "type": "float"
        },
        {
         "name": "PIB (USD miles de millones)",
         "rawType": "float64",
         "type": "float"
        },
        {
         "name": "Esperanza de vida (años)",
         "rawType": "float64",
         "type": "float"
        },
        {
         "name": "PIB per cápita (USD)",
         "rawType": "float64",
         "type": "float"
        }
       ],
       "ref": "5f33927c-e4a8-4177-a82a-b6be07edc1c8",
       "rows": [
        [
         "count",
         "5.0",
         "5.0",
         "5.0",
         "5.0"
        ],
        [
         "mean",
         "30.139999999999997",
         "277.34000000000003",
         "76.84",
         "11379.877474672885"
        ],
        [
         "std",
         "19.124539210135232",
         "145.5487822003331",
         "2.22328585656456",
         "4994.875263444988"
        ],
        [
         "min",
         "3.5",
         "59.2",
         "74.5",
         "6564.612326043738"
        ],
        [
         "25%",
         "19.5",
         "226.8",
         "75.6",
         "7065.420560747663"
        ],
        [
         "50%",
         "32.1",
         "320.0",
         "76.1",
         "9944.812362030905"
        ],
        [
         "75%",
         "45.3",
         "330.2",
         "77.8",
         "16410.25641025641"
        ],
        [
         "max",
         "50.3",
         "450.5",
         "80.2",
         "16914.285714285714"
        ]
       ],
       "shape": {
        "columns": 4,
        "rows": 8
       }
      },
      "text/html": [
       "<div>\n",
       "<style scoped>\n",
       "    .dataframe tbody tr th:only-of-type {\n",
       "        vertical-align: middle;\n",
       "    }\n",
       "\n",
       "    .dataframe tbody tr th {\n",
       "        vertical-align: top;\n",
       "    }\n",
       "\n",
       "    .dataframe thead th {\n",
       "        text-align: right;\n",
       "    }\n",
       "</style>\n",
       "<table border=\"1\" class=\"dataframe\">\n",
       "  <thead>\n",
       "    <tr style=\"text-align: right;\">\n",
       "      <th></th>\n",
       "      <th>Población (millones)</th>\n",
       "      <th>PIB (USD miles de millones)</th>\n",
       "      <th>Esperanza de vida (años)</th>\n",
       "      <th>PIB per cápita (USD)</th>\n",
       "    </tr>\n",
       "  </thead>\n",
       "  <tbody>\n",
       "    <tr>\n",
       "      <th>count</th>\n",
       "      <td>5.000000</td>\n",
       "      <td>5.000000</td>\n",
       "      <td>5.000000</td>\n",
       "      <td>5.000000</td>\n",
       "    </tr>\n",
       "    <tr>\n",
       "      <th>mean</th>\n",
       "      <td>30.140000</td>\n",
       "      <td>277.340000</td>\n",
       "      <td>76.840000</td>\n",
       "      <td>11379.877475</td>\n",
       "    </tr>\n",
       "    <tr>\n",
       "      <th>std</th>\n",
       "      <td>19.124539</td>\n",
       "      <td>145.548782</td>\n",
       "      <td>2.223286</td>\n",
       "      <td>4994.875263</td>\n",
       "    </tr>\n",
       "    <tr>\n",
       "      <th>min</th>\n",
       "      <td>3.500000</td>\n",
       "      <td>59.200000</td>\n",
       "      <td>74.500000</td>\n",
       "      <td>6564.612326</td>\n",
       "    </tr>\n",
       "    <tr>\n",
       "      <th>25%</th>\n",
       "      <td>19.500000</td>\n",
       "      <td>226.800000</td>\n",
       "      <td>75.600000</td>\n",
       "      <td>7065.420561</td>\n",
       "    </tr>\n",
       "    <tr>\n",
       "      <th>50%</th>\n",
       "      <td>32.100000</td>\n",
       "      <td>320.000000</td>\n",
       "      <td>76.100000</td>\n",
       "      <td>9944.812362</td>\n",
       "    </tr>\n",
       "    <tr>\n",
       "      <th>75%</th>\n",
       "      <td>45.300000</td>\n",
       "      <td>330.200000</td>\n",
       "      <td>77.800000</td>\n",
       "      <td>16410.256410</td>\n",
       "    </tr>\n",
       "    <tr>\n",
       "      <th>max</th>\n",
       "      <td>50.300000</td>\n",
       "      <td>450.500000</td>\n",
       "      <td>80.200000</td>\n",
       "      <td>16914.285714</td>\n",
       "    </tr>\n",
       "  </tbody>\n",
       "</table>\n",
       "</div>"
      ],
      "text/plain": [
       "       Población (millones)  PIB (USD miles de millones)  \\\n",
       "count              5.000000                     5.000000   \n",
       "mean              30.140000                   277.340000   \n",
       "std               19.124539                   145.548782   \n",
       "min                3.500000                    59.200000   \n",
       "25%               19.500000                   226.800000   \n",
       "50%               32.100000                   320.000000   \n",
       "75%               45.300000                   330.200000   \n",
       "max               50.300000                   450.500000   \n",
       "\n",
       "       Esperanza de vida (años)  PIB per cápita (USD)  \n",
       "count                  5.000000              5.000000  \n",
       "mean                  76.840000          11379.877475  \n",
       "std                    2.223286           4994.875263  \n",
       "min                   74.500000           6564.612326  \n",
       "25%                   75.600000           7065.420561  \n",
       "50%                   76.100000           9944.812362  \n",
       "75%                   77.800000          16410.256410  \n",
       "max                   80.200000          16914.285714  "
      ]
     },
     "execution_count": 67,
     "metadata": {},
     "output_type": "execute_result"
    }
   ],
   "source": [
    "df.describe()"
   ]
  },
  {
   "cell_type": "code",
   "execution_count": null,
   "id": "c9d65335",
   "metadata": {},
   "outputs": [],
   "source": [
    "# 6. Media y desviación estándar de la población\n",
    "media_poblacion = df['Población (millones)'].mean() #promedio\n",
    "std_poblacion = df['Población (millones)'].std() #desviación estándar"
   ]
  },
  {
   "cell_type": "markdown",
   "id": "1a84da67",
   "metadata": {},
   "source": [
    "#### Redondeando a dos decimales con Round"
   ]
  },
  {
   "cell_type": "code",
   "execution_count": 71,
   "id": "4b56173f",
   "metadata": {},
   "outputs": [
    {
     "data": {
      "text/plain": [
       "30.14"
      ]
     },
     "execution_count": 71,
     "metadata": {},
     "output_type": "execute_result"
    }
   ],
   "source": [
    "round(media_poblacion, 2)"
   ]
  },
  {
   "cell_type": "code",
   "execution_count": 77,
   "id": "e873a9ca",
   "metadata": {},
   "outputs": [],
   "source": [
    "# 7. País con mayor y menor PIB per cápita\n",
    "pais_mayor_pibpc = df.loc[df['PIB per cápita (USD)'].idxmax(), 'País']\n",
    "pais_menor_pibpc = df.loc[df['PIB per cápita (USD)'].idxmin(), 'País']"
   ]
  },
  {
   "cell_type": "code",
   "execution_count": 73,
   "id": "21793afe",
   "metadata": {},
   "outputs": [
    {
     "data": {
      "text/plain": [
       "('Uruguay', 'Colombia')"
      ]
     },
     "execution_count": 73,
     "metadata": {},
     "output_type": "execute_result"
    }
   ],
   "source": [
    "pais_mayor_pibpc, pais_menor_pibpc"
   ]
  },
  {
   "cell_type": "code",
   "execution_count": 89,
   "id": "6ab0544b",
   "metadata": {},
   "outputs": [
    {
     "data": {
      "image/png": "[encoded data removed]",
      "text/plain": [
       "<Figure size 600x400 with 1 Axes>"
      ]
     },
     "metadata": {},
     "output_type": "display_data"
    }
   ],
   "source": [
    "# 8. Histograma de “Población (millones)”\n",
    "plt.figure(figsize=(6,4))\n",
    "plt.hist(df['Población (millones)'], bins=5, color='skyblue', edgecolor='black')\n",
    "plt.title('Histograma de Población (millones)')\n",
    "plt.xlabel('Población (millones)')\n",
    "plt.ylabel('Frecuencia')\n",
    "plt.show()"
   ]
  },
  {
   "cell_type": "code",
   "execution_count": null,
   "id": "e753b6ef",
   "metadata": {},
   "outputs": [
    {
     "data": {
      "image/png": "[encoded data removed]",
      "text/plain": [
       "<Figure size 600x400 with 1 Axes>"
      ]
     },
     "metadata": {},
     "output_type": "display_data"
    }
   ],
   "source": [
    "# 9. Gráfico de dispersión de “PIB per cápita” vs “Esperanza de vida”\n",
    "plt.figure(figsize=(6,4))\n",
    "plt.scatter(df['PIB per cápita (USD)'], df['Esperanza de vida (años)'], color='green')\n",
    "for i, pais in enumerate(df['País']):\n",
    "    plt.annotate(pais, (df['PIB per cápita (USD)'][i], df['Esperanza de vida (años)'][i]))\n",
    "plt.title('PIB per cápita vs Esperanza de vida')\n",
    "plt.xlabel('PIB per cápita (USD)')\n",
    "plt.ylabel('Esperanza de vida (años)')\n",
    "plt.show()"
   ]
  },
  {
   "cell_type": "code",
   "execution_count": null,
   "id": "458b13c0",
   "metadata": {},
   "outputs": [],
   "source": [
    "print('Hola mundo!')"
   ]
  },
  {
   "cell_type": "code",
   "execution_count": 15,
   "id": "705d907d",
   "metadata": {},
   "outputs": [
    {
     "name": "stdout",
     "output_type": "stream",
     "text": [
      "Media de población (millones): 30.139999999999997\n",
      "Desviación estándar de población (millones): 19.124539210135232\n",
      "País con mayor PIB per cápita: Uruguay\n",
      "País con menor PIB per cápita: Colombia\n"
     ]
    },
    {
     "data": {
      "application/vnd.microsoft.datawrangler.viewer.v0+json": {
       "columns": [
        {
         "name": "index",
         "rawType": "int64",
         "type": "integer"
        },
        {
         "name": "País",
         "rawType": "object",
         "type": "string"
        },
        {
         "name": "Población (millones)",
         "rawType": "float64",
         "type": "float"
        },
        {
         "name": "PIB (USD miles de millones)",
         "rawType": "float64",
         "type": "float"
        },
        {
         "name": "Esperanza de vida (años)",
         "rawType": "float64",
         "type": "float"
        },
        {
         "name": "PIB per cápita (USD)",
         "rawType": "float64",
         "type": "float"
        },
        {
         "name": "Nivel de vida",
         "rawType": "object",
         "type": "string"
        }
       ],
       "ref": "5e2bd330-e1f7-4d8e-9142-cf27eeaeed40",
       "rows": [
        [
         "0",
         "Chile",
         "19.5",
         "320.0",
         "80.2",
         "16410.25641025641",
         "Alta"
        ],
        [
         "1",
         "Argentina",
         "45.3",
         "450.5",
         "76.1",
         "9944.812362030905",
         "Media"
        ],
        [
         "2",
         "Perú",
         "32.1",
         "226.8",
         "75.6",
         "7065.420560747663",
         "Media"
        ],
        [
         "3",
         "Colombia",
         "50.3",
         "330.2",
         "74.5",
         "6564.612326043738",
         "Baja"
        ],
        [
         "4",
         "Uruguay",
         "3.5",
         "59.2",
         "77.8",
         "16914.285714285714",
         "Media"
        ]
       ],
       "shape": {
        "columns": 6,
        "rows": 5
       }
      },
      "text/html": [
       "<div>\n",
       "<style scoped>\n",
       "    .dataframe tbody tr th:only-of-type {\n",
       "        vertical-align: middle;\n",
       "    }\n",
       "\n",
       "    .dataframe tbody tr th {\n",
       "        vertical-align: top;\n",
       "    }\n",
       "\n",
       "    .dataframe thead th {\n",
       "        text-align: right;\n",
       "    }\n",
       "</style>\n",
       "<table border=\"1\" class=\"dataframe\">\n",
       "  <thead>\n",
       "    <tr style=\"text-align: right;\">\n",
       "      <th></th>\n",
       "      <th>País</th>\n",
       "      <th>Población (millones)</th>\n",
       "      <th>PIB (USD miles de millones)</th>\n",
       "      <th>Esperanza de vida (años)</th>\n",
       "      <th>PIB per cápita (USD)</th>\n",
       "      <th>Nivel de vida</th>\n",
       "    </tr>\n",
       "  </thead>\n",
       "  <tbody>\n",
       "    <tr>\n",
       "      <th>0</th>\n",
       "      <td>Chile</td>\n",
       "      <td>19.5</td>\n",
       "      <td>320.0</td>\n",
       "      <td>80.2</td>\n",
       "      <td>16410.256410</td>\n",
       "      <td>Alta</td>\n",
       "    </tr>\n",
       "    <tr>\n",
       "      <th>1</th>\n",
       "      <td>Argentina</td>\n",
       "      <td>45.3</td>\n",
       "      <td>450.5</td>\n",
       "      <td>76.1</td>\n",
       "      <td>9944.812362</td>\n",
       "      <td>Media</td>\n",
       "    </tr>\n",
       "    <tr>\n",
       "      <th>2</th>\n",
       "      <td>Perú</td>\n",
       "      <td>32.1</td>\n",
       "      <td>226.8</td>\n",
       "      <td>75.6</td>\n",
       "      <td>7065.420561</td>\n",
       "      <td>Media</td>\n",
       "    </tr>\n",
       "    <tr>\n",
       "      <th>3</th>\n",
       "      <td>Colombia</td>\n",
       "      <td>50.3</td>\n",
       "      <td>330.2</td>\n",
       "      <td>74.5</td>\n",
       "      <td>6564.612326</td>\n",
       "      <td>Baja</td>\n",
       "    </tr>\n",
       "    <tr>\n",
       "      <th>4</th>\n",
       "      <td>Uruguay</td>\n",
       "      <td>3.5</td>\n",
       "      <td>59.2</td>\n",
       "      <td>77.8</td>\n",
       "      <td>16914.285714</td>\n",
       "      <td>Media</td>\n",
       "    </tr>\n",
       "  </tbody>\n",
       "</table>\n",
       "</div>"
      ],
      "text/plain": [
       "        País  Población (millones)  PIB (USD miles de millones)  \\\n",
       "0      Chile                  19.5                        320.0   \n",
       "1  Argentina                  45.3                        450.5   \n",
       "2       Perú                  32.1                        226.8   \n",
       "3   Colombia                  50.3                        330.2   \n",
       "4    Uruguay                   3.5                         59.2   \n",
       "\n",
       "   Esperanza de vida (años)  PIB per cápita (USD) Nivel de vida  \n",
       "0                      80.2          16410.256410          Alta  \n",
       "1                      76.1           9944.812362         Media  \n",
       "2                      75.6           7065.420561         Media  \n",
       "3                      74.5           6564.612326          Baja  \n",
       "4                      77.8          16914.285714         Media  "
      ]
     },
     "execution_count": 15,
     "metadata": {},
     "output_type": "execute_result"
    }
   ],
   "source": [
    "# Mostrar resultados clave\n",
    "print(\"Media de población (millones):\", media_poblacion)\n",
    "print(\"Desviación estándar de población (millones):\", std_poblacion)\n",
    "print(\"País con mayor PIB per cápita:\", pais_mayor_pibpc)\n",
    "print(\"País con menor PIB per cápita:\", pais_menor_pibpc)\n",
    "df"
   ]
  }
 ],
 "metadata": {
  "kernelspec": {
   "display_name": "datalab",
   "language": "python",
   "name": "python3"
  },
  "language_info": {
   "codemirror_mode": {
    "name": "ipython",
    "version": 3
   },
   "file_extension": ".py",
   "mimetype": "text/x-python",
   "name": "python",
   "nbconvert_exporter": "python",
   "pygments_lexer": "ipython3",
   "version": "3.12.11"
  }
 },
 "nbformat": 4,
 "nbformat_minor": 5
}
